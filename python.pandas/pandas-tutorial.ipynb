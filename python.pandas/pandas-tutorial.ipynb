{
 "cells": [
  {
   "cell_type": "markdown",
   "metadata": {},
   "source": [
    "## Pandas Tutorial From Kaggle  \n",
    "[Kaggle Learn: Pandas](https://www.kaggle.com/learn/pandas)"
   ]
  },
  {
   "cell_type": "code",
   "execution_count": 1,
   "metadata": {},
   "outputs": [
    {
     "name": "stdout",
     "output_type": "stream",
     "text": [
      "shape: \n",
      " (4, 2)\n",
      "head 1: \n",
      "    Age      Name\n",
      "0   22  jferroal\n",
      "sample 2: \n",
      "    Age         Name\n",
      "3   22         jeff\n",
      "1   22  ezirmusitua\n",
      "                     Bob           Sue\n",
      "Product A    I liked it.  Pretty good.\n",
      "Product B  It was awful.        Bland.\n"
     ]
    }
   ],
   "source": [
    "import sqlite3\n",
    "import pandas as pd\n",
    "# create data frame\n",
    "persons = pd.DataFrame({\n",
    "    'Name': ['jferroal', 'ezirmusitua', 'autisumrize', 'jeff'],\n",
    "    'Age': [22, 22, 22, 22]\n",
    "})\n",
    "print('shape: \\n', persons.shape)\n",
    "print('head 1: \\n', persons.head(1))\n",
    "print('sample 2: \\n', persons.sample(2))\n",
    "persons = pd.DataFrame({'Bob': ['I liked it.', 'It was awful.'], \n",
    "                        'Sue': ['Pretty good.', 'Bland.']},\n",
    "                       index=['Product A', 'Product B'])\n",
    "print(persons)"
   ]
  },
  {
   "cell_type": "markdown",
   "metadata": {},
   "source": [
    "### pd.DataFrame    \n",
    "`pd.DataFrame(dict, index=list of rowlabel)`  \n",
    "用法：传入 key(row label)-val(entries) dict  \n",
    "可选参数: index=list of row label  \n",
    "> 如果没有指定 index，默认 row label 为 range(0, row_count)  \n",
    "> 如果指定 index 数量和 row count 不符，index 数量决定  \n",
    "\n",
    "`pd.DataFrame.head(count)`  \n",
    "显示头 count 行数据  \n",
    "\n",
    "`pd.DataFrame.shape`  \n",
    "显示 DataFrame 的 (row, column) 数据  \n",
    "\n",
    "`pd.DataFrame.sample(count)`  \n",
    "显示 DataFrame 中随机 count 行  \n"
   ]
  },
  {
   "cell_type": "code",
   "execution_count": 2,
   "metadata": {},
   "outputs": [
    {
     "name": "stdout",
     "output_type": "stream",
     "text": [
      "0    1\n",
      "1    2\n",
      "2    3\n",
      "3    4\n",
      "4    5\n",
      "dtype: int64\n",
      "2015 Sales    30\n",
      "2016 Sales    35\n",
      "2017 Sales    40\n",
      "Name: Product A, dtype: int64\n"
     ]
    }
   ],
   "source": [
    "series = pd.Series([1, 2, 3, 4, 5])\n",
    "print(series)\n",
    "series = pd.Series([30, 35, 40], index=['2015 Sales', '2016 Sales', '2017 Sales'], name='Product A')\n",
    "print(series)"
   ]
  },
  {
   "cell_type": "markdown",
   "metadata": {},
   "source": [
    "### pd.Series   \n",
    "用法：传入一个 list   \n",
    "可选参数：index（类似 DataFrame 的作用），name - 指定 Series 的名称  "
   ]
  },
  {
   "cell_type": "code",
   "execution_count": 3,
   "metadata": {},
   "outputs": [
    {
     "name": "stdout",
     "output_type": "stream",
     "text": [
      "        Name  Age\n",
      "id               \n",
      "0   jferroal   22\n",
      "       Name  Age  id\n",
      "0  jferroal   22   0\n"
     ]
    }
   ],
   "source": [
    "csv_demo = pd.read_csv('./demo.csv', index_col=2)  \n",
    "print(csv_demo)\n",
    "csv_demo = pd.read_csv('./demo.csv')  \n",
    "print(csv_demo)"
   ]
  },
  {
   "cell_type": "markdown",
   "metadata": {},
   "source": [
    "## pd.read_csv  \n",
    "从 csv 文件中读取数据并转变为 DataFrame  \n",
    "可以使用参数 index_col=col_index 指定哪一列为 index 指示，不指定时默认生成  \n"
   ]
  },
  {
   "cell_type": "code",
   "execution_count": 4,
   "metadata": {},
   "outputs": [
    {
     "name": "stdout",
     "output_type": "stream",
     "text": [
      "   ID   NAME  AGE     ADDRESS   SALARY\n",
      "0   1   Paul   32  California  20000.0\n",
      "1   2  Allen   25       Texas  15000.0\n",
      "2   3  Teddy   23      Norway  20000.0\n",
      "3   4   Mark   25  Rich-Mond   65000.0\n"
     ]
    }
   ],
   "source": [
    "def prepare_demo_table(conn):\n",
    "    c = conn.cursor()\n",
    "    c.execute('''CREATE TABLE COMPANY\n",
    "       (ID INT PRIMARY KEY     NOT NULL,\n",
    "       NAME           TEXT    NOT NULL,\n",
    "       AGE            INT     NOT NULL,\n",
    "       ADDRESS        CHAR(50),\n",
    "       SALARY         REAL);''')\n",
    "\n",
    "    c.execute(\"INSERT INTO COMPANY (ID,NAME,AGE,ADDRESS,SALARY) \\\n",
    "      VALUES (1, 'Paul', 32, 'California', 20000.00 )\")\n",
    "\n",
    "    c.execute(\"INSERT INTO COMPANY (ID,NAME,AGE,ADDRESS,SALARY) \\\n",
    "      VALUES (2, 'Allen', 25, 'Texas', 15000.00 )\")\n",
    "\n",
    "    c.execute(\"INSERT INTO COMPANY (ID,NAME,AGE,ADDRESS,SALARY) \\\n",
    "      VALUES (3, 'Teddy', 23, 'Norway', 20000.00 )\")\n",
    "\n",
    "    c.execute(\"INSERT INTO COMPANY (ID,NAME,AGE,ADDRESS,SALARY) \\\n",
    "      VALUES (4, 'Mark', 25, 'Rich-Mond ', 65000.00 )\")\n",
    "\n",
    "    conn.commit()\n",
    "conn = sqlite3.connect('./demo.sqlite')\n",
    "# prepare_demo_table(conn)\n",
    "sqlite3_demo = pd.read_sql_query(\"SELECT * FROM COMPANY\", conn)\n",
    "print(sqlite3_demo)"
   ]
  },
  {
   "cell_type": "markdown",
   "metadata": {},
   "source": [
    "## pd.read_sql_query  \n",
    "利用 sql connection 执行 select 语句从而获取数据库中的数据  "
   ]
  },
  {
   "cell_type": "code",
   "execution_count": 5,
   "metadata": {},
   "outputs": [
    {
     "name": "stdout",
     "output_type": "stream",
     "text": [
      "          部门    姓名       具体任职  总分  等级  工作业绩分  任职浮动分    备注\n",
      "0        主席团   顾迪文      学生会主席  70   A    1.5    1.0   NaN\n",
      "1        NaN   丁俊波     学生会副主席  66   B    1.0    NaN   NaN\n",
      "2        NaN   倪聪亮     学生会副主席  66   B    1.0    NaN   NaN\n",
      "3        NaN   金晓永     学生会副主席  66   B    1.0    NaN   NaN\n",
      "4        NaN   吴文杰      团委副书记  70   A    1.5    1.0   NaN\n",
      "5        NaN   李丽娅     团委书记助理  69   A    1.5    0.5   NaN\n",
      "6        秘书处    李莉     秘书处秘书长  80   B    1.0    0.5   NaN\n",
      "7        NaN    楼斌      秘书处秘书  78   B    1.0    0.5   NaN\n",
      "8        NaN   宋佳伟      秘书处秘书  80   A    1.5    0.5   NaN\n",
      "9        NaN   计兴月      秘书处秘书  76   B    1.0    0.5   NaN\n",
      "10       NaN   茹颖波      秘书处秘书  80   C    0.5    NaN   NaN\n",
      "11       NaN   曹旭颖      秘书处秘书  78   C    0.5    NaN   NaN\n",
      "12       NaN   陈雯婕      秘书处秘书  80   A    1.5    NaN   NaN\n",
      "13    职业发展中心   单文耀   职业发展中心部长  78   B    1.0    NaN   NaN\n",
      "14       NaN    董梅  职业发展中心副部长  76   B    1.0    NaN   NaN\n",
      "15       NaN   赵红阳  职业发展中心副部长  79   B    1.0    NaN   NaN\n",
      "16       NaN    黄莉  职业发展中心副部长  76   B    1.0    NaN   NaN\n",
      "17       NaN    周艳  职业发展中心副部长  74   B    1.0    NaN   NaN\n",
      "18       NaN   金芝娣  职业发展中心副部长  71   B    1.0    NaN   NaN\n",
      "19       NaN   付国鹏  职业发展中心副部长  73   B    1.0    NaN   NaN\n",
      "20       事业部    董昊   事业部常务副部长  76   B    1.0    0.5   NaN\n",
      "21       NaN    赵静   事业部常务副部长  73   C    0.5    0.5   NaN\n",
      "22       NaN   徐燕男      事业部干事  76   A    1.5    NaN   NaN\n",
      "23       NaN    杨京      事业部干事  70   C    0.5    NaN   NaN\n",
      "24       NaN   林婷婷      事业部部助  76   A    1.5    NaN   NaN\n",
      "25       NaN   林海欧      事业部干事  76   A    1.5    NaN   NaN\n",
      "26       NaN   陈天益      事业部干事  72   B    1.0    NaN   NaN\n",
      "27       NaN   王艳芳      事业部干事  70   C    0.5    NaN   NaN\n",
      "28       NaN    魏佳      事业部干事  70   C    0.5    NaN   NaN\n",
      "29       NaN   戴鑫雷      事业部干事  76   A    1.5    NaN   NaN\n",
      "...      ...   ...        ...  ..  ..    ...    ...   ...\n",
      "1081     NaN    陈超     经贸青协干事  73   B    1.0    NaN  A类社团\n",
      "1082     NaN   胡淑静     经贸青协干事  84   A    1.5    NaN  A类社团\n",
      "1083     NaN   吴舒淇     经贸青协干事  78   B    1.0    NaN  A类社团\n",
      "1084     NaN   余庆浩     经贸青协干事  87   A    1.5    NaN  A类社团\n",
      "1085     NaN   刘光轮     经贸青协干事  85   A    1.5    NaN  A类社团\n",
      "1086     NaN   裴银娣     经贸青协干事  79   B    1.0    NaN  A类社团\n",
      "1087     NaN    王婧     经贸青协干事  73   B    1.0    NaN  A类社团\n",
      "1088     NaN    陈莹     经贸青协干事  71   B    1.0    NaN  A类社团\n",
      "1089     NaN   秦敏亚     经贸青协干事  76   B    1.0    NaN  A类社团\n",
      "1090     NaN   姚永兰     经贸青协干事  74   B    1.0    NaN  A类社团\n",
      "1091     NaN   胡灵龙     经贸青协干事  76   B    1.0    NaN  A类社团\n",
      "1092     NaN   黄于捷     经贸青协干事  77   B    1.0    NaN  A类社团\n",
      "1093     NaN    吴迪    经贸三思会干事  77   B    1.0    NaN  A类社团\n",
      "1094     NaN   张莉弘    经贸三思会干事  65   C    0.5    NaN  A类社团\n",
      "1095     NaN   郭略辰    经贸三思会干事  78   B    1.0    NaN  A类社团\n",
      "1096     NaN   陈雯婕    经贸三思会干事  86   A    1.5    NaN  A类社团\n",
      "1097     NaN   周彬良    经贸三思会干事  68   C    0.5    NaN  A类社团\n",
      "1098     NaN   朱旭靓    经贸三思会干事  76  B     1.0    NaN  A类社团\n",
      "1099     NaN   沈毓雅    经贸三思会干事  79   B    1.0    NaN  A类社团\n",
      "1100     NaN    张翀    经贸三思会干事  87   A    1.5    NaN  A类社团\n",
      "1101     NaN   刘晋浩    经贸三思会干事  73   B    1.0    NaN  A类社团\n",
      "1102     NaN   居海刚    经贸三思会干事  88   A    1.5    NaN  A类社团\n",
      "1103     NaN   刘超峰    经贸三思会干事  75   B    1.0    NaN  A类社团\n",
      "1104     NaN   夏旭挺    经贸三思会干事  77   B    1.0    NaN  A类社团\n",
      "1105     NaN   吴胜佳    经贸三思会干事  74   B    1.0    NaN  A类社团\n",
      "1106     NaN  卢娟娟     经贸三思会干事  79   B    1.0    NaN  A类社团\n",
      "1107     NaN   王丽丹    经贸三思会干事  76   B    1.0    NaN  A类社团\n",
      "1108     NaN   王晓庆    经贸三思会干事  78   B    1.0    NaN  A类社团\n",
      "1109     NaN   王安平    经贸三思会干事  69   C    0.5    NaN  A类社团\n",
      "1110     NaN   周子娟    经贸三思会干事  78   B    1.0    NaN  A类社团\n",
      "\n",
      "[1111 rows x 8 columns]\n"
     ]
    }
   ],
   "source": [
    "excel_demo = pd.read_excel('./demo.xls')\n",
    "print(excel_demo)"
   ]
  },
  {
   "cell_type": "markdown",
   "metadata": {},
   "source": [
    "### pd.read_excel  \n",
    "从 excel 文件中读取数据并转化为 DataFrame  \n",
    "可以通过指定 `sheet_name=?` 指定读取 excel 中的那个 sheet  "
   ]
  },
  {
   "cell_type": "code",
   "execution_count": 7,
   "metadata": {},
   "outputs": [],
   "source": [
    "sqlite3_demo.sample(2).to_csv('./demo.out.csv')\n",
    "sqlite3_demo.sample(2).to_excel('./demo.out.xls')\n",
    "sqlite3_demo.sample(2).to_sql('COMPANY_NEW', conn)"
   ]
  },
  {
   "cell_type": "markdown",
   "metadata": {},
   "source": [
    "### write DataFrame to file/sql  \n",
    "DataFrame 对象有 to_* 方法可以将数据写入到不同的地方  "
   ]
  }
 ],
 "metadata": {
  "kernelspec": {
   "display_name": "Python 3",
   "language": "python",
   "name": "python3"
  },
  "language_info": {
   "codemirror_mode": {
    "name": "ipython",
    "version": 3
   },
   "file_extension": ".py",
   "mimetype": "text/x-python",
   "name": "python",
   "nbconvert_exporter": "python",
   "pygments_lexer": "ipython3",
   "version": "3.6.4"
  }
 },
 "nbformat": 4,
 "nbformat_minor": 2
}
