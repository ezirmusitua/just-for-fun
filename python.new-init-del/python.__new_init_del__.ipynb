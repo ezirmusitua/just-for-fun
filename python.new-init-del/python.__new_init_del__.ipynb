{
 "cells": [
  {
   "cell_type": "code",
   "execution_count": 18,
   "metadata": {},
   "outputs": [
    {
     "name": "stdout",
     "output_type": "stream",
     "text": [
      "__new__ is call before __init__\n",
      "Create a child instance\n",
      "__new__ will receive init args\n",
      "this is the argument\n",
      "call Parent.__new__\n",
      "call Child.__new__\n",
      "call Child.__init__\n"
     ]
    }
   ],
   "source": [
    "def call_order_of_new_and_init():\n",
    "    class C1(object):\n",
    "        def __new__(cls, arg1):\n",
    "            print('call Parent.__new__')\n",
    "            self = super().__new__(cls)\n",
    "            return self\n",
    "        def __init__(self, arg1):\n",
    "            print('call Parent.__init__')\n",
    "    class C2(C1):\n",
    "        def __new__(cls, *args, **kwargs):\n",
    "            print('__new__ will receive init args')\n",
    "            print(*args, **kwargs)\n",
    "            self = super().__new__(cls, *args, **kwargs)\n",
    "            print('call Child.__new__')\n",
    "            return self\n",
    "        def __init__(cls, arg1):\n",
    "            print('call Child.__init__')\n",
    "    print('__new__ is call before __init__')\n",
    "    print('Create a child instance')\n",
    "    child = C2('this is the argument')\n",
    "\n",
    "call_order_of_new_and_init()"
   ]
  },
  {
   "cell_type": "code",
   "execution_count": 20,
   "metadata": {},
   "outputs": [
    {
     "name": "stdout",
     "output_type": "stream",
     "text": [
      "__init__ can not return a not None value\n"
     ]
    }
   ],
   "source": [
    "def init_cannot_return_not_None_value():\n",
    "    class C3(object):\n",
    "        def __init__(cls):\n",
    "            return 'not-None'\n",
    "    class C4(object):\n",
    "        def __init__(cls):\n",
    "            return None\n",
    "    \n",
    "    try:\n",
    "        c1 = C3()\n",
    "    except TypeError:\n",
    "        print('__init__ can not return a not None value')\n",
    "    else:\n",
    "        c1 = C4()\n",
    "\n",
    "init_cannot_return_not_None_value()"
   ]
  },
  {
   "cell_type": "code",
   "execution_count": 24,
   "metadata": {},
   "outputs": [
    {
     "name": "stdout",
     "output_type": "stream",
     "text": [
      "C6 __new__\n",
      "C5 __new__\n",
      "C6 should not have attribute[name], but add it in C5 __new__\n",
      "C6 __init__\n",
      "C5 __init__\n",
      "print the attribute from c5 __new__:  Hello\n"
     ]
    }
   ],
   "source": [
    "def use_parent_new_to_add_attributes_to_child_instance():\n",
    "    class C5(object):\n",
    "        def __new__(cls, *args, **kwargs):\n",
    "            print('C5 __new__')\n",
    "            self = super().__new__(cls, *args, **kwargs)\n",
    "            print('C6 should not have attribute[name], but add it in C5 __new__')\n",
    "            self.name_from_c5 = 'Hello'\n",
    "            return self\n",
    "        \n",
    "        def __init__(self, *args, **kwargs):\n",
    "            print('C5 __init__')\n",
    "\n",
    "    class C6(C5):\n",
    "        def __new__(cls, *args, **kwargs):\n",
    "            print('C6 __new__')\n",
    "            self = super().__new__(cls, *args, **kwargs)\n",
    "            return self\n",
    "        \n",
    "        def __init__(self, *args, **kwargs):\n",
    "            print('C6 __init__')\n",
    "            super().__init__(self, *args, **kwargs)\n",
    "\n",
    "    c6 = C6()\n",
    "    print('print the attribute from c5 __new__: ', c6.name_from_c5)\n",
    "use_parent_new_to_add_attributes_to_child_instance()"
   ]
  },
  {
   "cell_type": "code",
   "execution_count": 1,
   "metadata": {},
   "outputs": [
    {
     "name": "stdout",
     "output_type": "stream",
     "text": [
      "cls attribute from parent:  A1\n",
      "can inherit\n",
      "A2\n",
      "A2\n",
      "A4\n",
      "A2\n"
     ]
    }
   ],
   "source": [
    "def can_child_class_inherit_class_attribute():\n",
    "    class C7(object):\n",
    "        cls_attr_1 = 'A1'\n",
    "        cls_attr_2 = 'A2'\n",
    "        def __init__(self):\n",
    "            pass\n",
    "        def change_attr_1(self):\n",
    "            C7.cls_attr_1 = 'A2'\n",
    "        def change_attr_2(self):\n",
    "            C7.cls_attr_2 = 'A3'\n",
    "\n",
    "    class C8(C7):\n",
    "        def change_attr_2(self):\n",
    "            C8.cls_attr_2 = 'A4'\n",
    "\n",
    "    c8 = C8()\n",
    "    try:\n",
    "        print('cls attribute from parent: ', c8.cls_attr_1)\n",
    "    except AttributeError:\n",
    "        print('can not inherit')\n",
    "    else:\n",
    "        print('can inherit')\n",
    "    c8.change_attr_1()\n",
    "    print(c8.cls_attr_1)\n",
    "    print(c8.cls_attr_2)\n",
    "    c8.change_attr_2()\n",
    "    print(c8.cls_attr_2)\n",
    "    print('child can change the variable defined in parent class, but it wont change it in parent class, only in self class')\n",
    "    c7 = C7()\n",
    "    print(c7.cls_attr_2)\n",
    "\n",
    "can_child_class_inherit_class_attribute()"
   ]
  },
  {
   "cell_type": "code",
   "execution_count": 30,
   "metadata": {},
   "outputs": [
    {
     "name": "stdout",
     "output_type": "stream",
     "text": [
      "original C9 instance, ref: x, mark this as R0\n",
      "c9_1_1 ref to c9 , ref: R1->R0, mark c9_1 as R1\n",
      "c9_2 ref to c9 , ref: R1->R0<-R2, mark c9_2 as R2\n",
      "c9_1_1 ref to c9_1, actually ref to c9 , ref: R1/3->R0<-R2, mark c9_1_1 as R3\n",
      "call __del__ if del c9_1_1 ?\n",
      "call __del__ if del c9_1 ?\n",
      "call __del__ if del c9_2 ?, hint: \n",
      "conclusion: only refs_count equal to zero can triggle gc and means call __del__\n",
      "call __del__\n"
     ]
    }
   ],
   "source": [
    "def del_val_not_means_call__del__():\n",
    "    class C9(object):\n",
    "        def __del__(self):\n",
    "            print('call __del__')\n",
    "    c9 = C9()\n",
    "    print('original C9 instance, ref: x, mark this as R0')\n",
    "    c9_1 = c9\n",
    "    print('c9_1_1 ref to c9 , ref: R1->R0, mark c9_1 as R1')\n",
    "    c9_2 = c9\n",
    "    print('c9_2 ref to c9 , ref: R1->R0<-R2, mark c9_2 as R2')\n",
    "    c9_1_1 = c9_1\n",
    "    print('c9_1_1 ref to c9_1, actually ref to c9 , ref: R1/3->R0<-R2, mark c9_1_1 as R3')\n",
    "    print('call __del__ if del c9_1_1 ?')\n",
    "    del c9_1_1\n",
    "    print('call __del__ if del c9_1 ?')\n",
    "    del c9_1\n",
    "    print('call __del__ if del c9_2 ?, hint: ')\n",
    "    del c9_2\n",
    "    print('conclusion: only refs_count equal to zero can triggle gc and means call __del__')\n",
    "del_val_not_means_call__del__()"
   ]
  }
 ],
 "metadata": {
  "kernelspec": {
   "display_name": "Python 3",
   "language": "python",
   "name": "python3"
  },
  "language_info": {
   "codemirror_mode": {
    "name": "ipython",
    "version": 3
   },
   "file_extension": ".py",
   "mimetype": "text/x-python",
   "name": "python",
   "nbconvert_exporter": "python",
   "pygments_lexer": "ipython3",
   "version": "3.6.2"
  }
 },
 "nbformat": 4,
 "nbformat_minor": 2
}
