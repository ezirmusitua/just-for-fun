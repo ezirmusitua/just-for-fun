{
 "cells": [
  {
   "cell_type": "markdown",
   "metadata": {},
   "source": [
    "## Pandas Tutorial From Kaggle  \n",
    "[Kaggle Learn: Pandas](https://www.kaggle.com/learn/pandas)"
   ]
  },
  {
   "cell_type": "code",
   "execution_count": 1,
   "metadata": {},
   "outputs": [
    {
     "name": "stdout",
     "output_type": "stream",
     "text": [
      "shape: \n",
      " (4, 2)\n",
      "head 1: \n",
      "    Age      Name\n",
      "0   22  jferroal\n",
      "sample 2: \n",
      "    Age         Name\n",
      "1   22  ezirmusitua\n",
      "2   22  autisumrize\n",
      "                     Bob           Sue\n",
      "Product A    I liked it.  Pretty good.\n",
      "Product B  It was awful.        Bland.\n"
     ]
    }
   ],
   "source": [
    "import sqlite3\n",
    "import pandas as pd\n",
    "# create data frame\n",
    "persons = pd.DataFrame({\n",
    "    'Name': ['jferroal', 'ezirmusitua', 'autisumrize', 'jeff'],\n",
    "    'Age': [22, 22, 22, 22]\n",
    "})\n",
    "print('shape: \\n', persons.shape)\n",
    "print('head 1: \\n', persons.head(1))\n",
    "print('sample 2: \\n', persons.sample(2))\n",
    "persons = pd.DataFrame({'Bob': ['I liked it.', 'It was awful.'], \n",
    "                        'Sue': ['Pretty good.', 'Bland.']},\n",
    "                       index=['Product A', 'Product B'])\n",
    "print(persons)"
   ]
  },
  {
   "cell_type": "markdown",
   "metadata": {},
   "source": [
    "### pd.DataFrame    \n",
    "`pd.DataFrame(dict, index=list of rowlabel)`  \n",
    "用法：传入 key(row label)-val(entries) dict  \n",
    "可选参数: index=list of row label  \n",
    "> 如果没有指定 index，默认 row label 为 range(0, row_count)  \n",
    "> 如果指定 index 数量和 row count 不符，index 数量决定  \n",
    "\n",
    "`pd.DataFrame.head(count)`  \n",
    "显示头 count 行数据  \n",
    "\n",
    "`pd.DataFrame.shape`  \n",
    "显示 DataFrame 的 (row, column) 数据  \n",
    "\n",
    "`pd.DataFrame.sample(count)`  \n",
    "显示 DataFrame 中随机 count 行  \n"
   ]
  },
  {
   "cell_type": "code",
   "execution_count": 2,
   "metadata": {},
   "outputs": [
    {
     "name": "stdout",
     "output_type": "stream",
     "text": [
      "0    1\n",
      "1    2\n",
      "2    3\n",
      "3    4\n",
      "4    5\n",
      "dtype: int64\n",
      "2015 Sales    30\n",
      "2016 Sales    35\n",
      "2017 Sales    40\n",
      "Name: Product A, dtype: int64\n"
     ]
    }
   ],
   "source": [
    "series = pd.Series([1, 2, 3, 4, 5])\n",
    "print(series)\n",
    "series = pd.Series([30, 35, 40], index=['2015 Sales', '2016 Sales', '2017 Sales'], name='Product A')\n",
    "print(series)"
   ]
  },
  {
   "cell_type": "markdown",
   "metadata": {},
   "source": [
    "### pd.Series   \n",
    "用法：传入一个 list   \n",
    "可选参数：index（类似 DataFrame 的作用），name - 指定 Series 的名称  "
   ]
  },
  {
   "cell_type": "code",
   "execution_count": 3,
   "metadata": {},
   "outputs": [
    {
     "name": "stdout",
     "output_type": "stream",
     "text": [
      "        Name  Age\n",
      "id               \n",
      "0   jferroal   22\n",
      "       Name  Age  id\n",
      "0  jferroal   22   0\n"
     ]
    }
   ],
   "source": [
    "csv_demo = pd.read_csv('./demo.csv', index_col=2)  \n",
    "print(csv_demo)\n",
    "csv_demo = pd.read_csv('./demo.csv')  \n",
    "print(csv_demo)"
   ]
  },
  {
   "cell_type": "markdown",
   "metadata": {},
   "source": [
    "## pd.read_csv  \n",
    "从 csv 文件中读取数据并转变为 DataFrame  \n",
    "可以使用参数 index_col=col_index 指定哪一列为 index 指示，不指定时默认生成  \n"
   ]
  },
  {
   "cell_type": "code",
   "execution_count": 4,
   "metadata": {},
   "outputs": [
    {
     "name": "stdout",
     "output_type": "stream",
     "text": [
      "   ID   NAME  AGE     ADDRESS   SALARY\n",
      "0   1   Paul   32  California  20000.0\n",
      "1   2  Allen   25       Texas  15000.0\n",
      "2   3  Teddy   23      Norway  20000.0\n",
      "3   4   Mark   25  Rich-Mond   65000.0\n"
     ]
    }
   ],
   "source": [
    "def prepare_demo_table(conn):\n",
    "    c = conn.cursor()\n",
    "    c.execute('''CREATE TABLE COMPANY\n",
    "       (ID INT PRIMARY KEY     NOT NULL,\n",
    "       NAME           TEXT    NOT NULL,\n",
    "       AGE            INT     NOT NULL,\n",
    "       ADDRESS        CHAR(50),\n",
    "       SALARY         REAL);''')\n",
    "\n",
    "    c.execute(\"INSERT INTO COMPANY (ID,NAME,AGE,ADDRESS,SALARY) \\\n",
    "      VALUES (1, 'Paul', 32, 'California', 20000.00 )\")\n",
    "\n",
    "    c.execute(\"INSERT INTO COMPANY (ID,NAME,AGE,ADDRESS,SALARY) \\\n",
    "      VALUES (2, 'Allen', 25, 'Texas', 15000.00 )\")\n",
    "\n",
    "    c.execute(\"INSERT INTO COMPANY (ID,NAME,AGE,ADDRESS,SALARY) \\\n",
    "      VALUES (3, 'Teddy', 23, 'Norway', 20000.00 )\")\n",
    "\n",
    "    c.execute(\"INSERT INTO COMPANY (ID,NAME,AGE,ADDRESS,SALARY) \\\n",
    "      VALUES (4, 'Mark', 25, 'Rich-Mond ', 65000.00 )\")\n",
    "\n",
    "    conn.commit()\n",
    "conn = sqlite3.connect('./demo.sqlite')\n",
    "# prepare_demo_table(conn)\n",
    "sqlite3_demo = pd.read_sql_query(\"SELECT * FROM COMPANY\", conn)\n",
    "print(sqlite3_demo)"
   ]
  },
  {
   "cell_type": "markdown",
   "metadata": {},
   "source": [
    "## pd.read_sql_query  \n",
    "利用 sql connection 执行 select 语句从而获取数据库中的数据  "
   ]
  },
  {
   "cell_type": "code",
   "execution_count": 5,
   "metadata": {},
   "outputs": [
    {
     "name": "stdout",
     "output_type": "stream",
     "text": [
      "    部门   姓名    具体任职  总分 等级  工作业绩分  任职浮动分   备注\n",
      "1  NaN  丁俊波  学生会副主席  66  B    1.0    NaN  NaN\n",
      "3  NaN  金晓永  学生会副主席  66  B    1.0    NaN  NaN\n"
     ]
    }
   ],
   "source": [
    "excel_demo = pd.read_excel('./demo.xls')\n",
    "print(excel_demo.iloc[1:5:2,])"
   ]
  },
  {
   "cell_type": "markdown",
   "metadata": {},
   "source": [
    "### pd.read_excel  \n",
    "从 excel 文件中读取数据并转化为 DataFrame  \n",
    "可以通过指定 `sheet_name=?` 指定读取 excel 中的那个 sheet  "
   ]
  },
  {
   "cell_type": "code",
   "execution_count": 6,
   "metadata": {},
   "outputs": [
    {
     "ename": "ValueError",
     "evalue": "Table 'COMPANY_NEW' already exists.",
     "output_type": "error",
     "traceback": [
      "\u001b[0;31m---------------------------------------------------------------------------\u001b[0m",
      "\u001b[0;31mValueError\u001b[0m                                Traceback (most recent call last)",
      "\u001b[0;32m<ipython-input-6-8b8cef520e00>\u001b[0m in \u001b[0;36m<module>\u001b[0;34m()\u001b[0m\n\u001b[1;32m      1\u001b[0m \u001b[0msqlite3_demo\u001b[0m\u001b[0;34m.\u001b[0m\u001b[0msample\u001b[0m\u001b[0;34m(\u001b[0m\u001b[0;36m2\u001b[0m\u001b[0;34m)\u001b[0m\u001b[0;34m.\u001b[0m\u001b[0mto_csv\u001b[0m\u001b[0;34m(\u001b[0m\u001b[0;34m'./demo.out.csv'\u001b[0m\u001b[0;34m)\u001b[0m\u001b[0;34m\u001b[0m\u001b[0m\n\u001b[1;32m      2\u001b[0m \u001b[0msqlite3_demo\u001b[0m\u001b[0;34m.\u001b[0m\u001b[0msample\u001b[0m\u001b[0;34m(\u001b[0m\u001b[0;36m2\u001b[0m\u001b[0;34m)\u001b[0m\u001b[0;34m.\u001b[0m\u001b[0mto_excel\u001b[0m\u001b[0;34m(\u001b[0m\u001b[0;34m'./demo.out.xls'\u001b[0m\u001b[0;34m)\u001b[0m\u001b[0;34m\u001b[0m\u001b[0m\n\u001b[0;32m----> 3\u001b[0;31m \u001b[0msqlite3_demo\u001b[0m\u001b[0;34m.\u001b[0m\u001b[0msample\u001b[0m\u001b[0;34m(\u001b[0m\u001b[0;36m2\u001b[0m\u001b[0;34m)\u001b[0m\u001b[0;34m.\u001b[0m\u001b[0mto_sql\u001b[0m\u001b[0;34m(\u001b[0m\u001b[0;34m'COMPANY_NEW'\u001b[0m\u001b[0;34m,\u001b[0m \u001b[0mconn\u001b[0m\u001b[0;34m)\u001b[0m\u001b[0;34m\u001b[0m\u001b[0m\n\u001b[0m",
      "\u001b[0;32m~/.venvs/lite_data_science/lib/python3.6/site-packages/pandas/core/generic.py\u001b[0m in \u001b[0;36mto_sql\u001b[0;34m(self, name, con, flavor, schema, if_exists, index, index_label, chunksize, dtype)\u001b[0m\n\u001b[1;32m   1532\u001b[0m         sql.to_sql(self, name, con, flavor=flavor, schema=schema,\n\u001b[1;32m   1533\u001b[0m                    \u001b[0mif_exists\u001b[0m\u001b[0;34m=\u001b[0m\u001b[0mif_exists\u001b[0m\u001b[0;34m,\u001b[0m \u001b[0mindex\u001b[0m\u001b[0;34m=\u001b[0m\u001b[0mindex\u001b[0m\u001b[0;34m,\u001b[0m \u001b[0mindex_label\u001b[0m\u001b[0;34m=\u001b[0m\u001b[0mindex_label\u001b[0m\u001b[0;34m,\u001b[0m\u001b[0;34m\u001b[0m\u001b[0m\n\u001b[0;32m-> 1534\u001b[0;31m                    chunksize=chunksize, dtype=dtype)\n\u001b[0m\u001b[1;32m   1535\u001b[0m \u001b[0;34m\u001b[0m\u001b[0m\n\u001b[1;32m   1536\u001b[0m     def to_pickle(self, path, compression='infer',\n",
      "\u001b[0;32m~/.venvs/lite_data_science/lib/python3.6/site-packages/pandas/io/sql.py\u001b[0m in \u001b[0;36mto_sql\u001b[0;34m(frame, name, con, flavor, schema, if_exists, index, index_label, chunksize, dtype)\u001b[0m\n\u001b[1;32m    471\u001b[0m     pandas_sql.to_sql(frame, name, if_exists=if_exists, index=index,\n\u001b[1;32m    472\u001b[0m                       \u001b[0mindex_label\u001b[0m\u001b[0;34m=\u001b[0m\u001b[0mindex_label\u001b[0m\u001b[0;34m,\u001b[0m \u001b[0mschema\u001b[0m\u001b[0;34m=\u001b[0m\u001b[0mschema\u001b[0m\u001b[0;34m,\u001b[0m\u001b[0;34m\u001b[0m\u001b[0m\n\u001b[0;32m--> 473\u001b[0;31m                       chunksize=chunksize, dtype=dtype)\n\u001b[0m\u001b[1;32m    474\u001b[0m \u001b[0;34m\u001b[0m\u001b[0m\n\u001b[1;32m    475\u001b[0m \u001b[0;34m\u001b[0m\u001b[0m\n",
      "\u001b[0;32m~/.venvs/lite_data_science/lib/python3.6/site-packages/pandas/io/sql.py\u001b[0m in \u001b[0;36mto_sql\u001b[0;34m(self, frame, name, if_exists, index, index_label, schema, chunksize, dtype)\u001b[0m\n\u001b[1;32m   1509\u001b[0m                             \u001b[0mif_exists\u001b[0m\u001b[0;34m=\u001b[0m\u001b[0mif_exists\u001b[0m\u001b[0;34m,\u001b[0m \u001b[0mindex_label\u001b[0m\u001b[0;34m=\u001b[0m\u001b[0mindex_label\u001b[0m\u001b[0;34m,\u001b[0m\u001b[0;34m\u001b[0m\u001b[0m\n\u001b[1;32m   1510\u001b[0m                             dtype=dtype)\n\u001b[0;32m-> 1511\u001b[0;31m         \u001b[0mtable\u001b[0m\u001b[0;34m.\u001b[0m\u001b[0mcreate\u001b[0m\u001b[0;34m(\u001b[0m\u001b[0;34m)\u001b[0m\u001b[0;34m\u001b[0m\u001b[0m\n\u001b[0m\u001b[1;32m   1512\u001b[0m         \u001b[0mtable\u001b[0m\u001b[0;34m.\u001b[0m\u001b[0minsert\u001b[0m\u001b[0;34m(\u001b[0m\u001b[0mchunksize\u001b[0m\u001b[0;34m)\u001b[0m\u001b[0;34m\u001b[0m\u001b[0m\n\u001b[1;32m   1513\u001b[0m \u001b[0;34m\u001b[0m\u001b[0m\n",
      "\u001b[0;32m~/.venvs/lite_data_science/lib/python3.6/site-packages/pandas/io/sql.py\u001b[0m in \u001b[0;36mcreate\u001b[0;34m(self)\u001b[0m\n\u001b[1;32m    590\u001b[0m         \u001b[0;32mif\u001b[0m \u001b[0mself\u001b[0m\u001b[0;34m.\u001b[0m\u001b[0mexists\u001b[0m\u001b[0;34m(\u001b[0m\u001b[0;34m)\u001b[0m\u001b[0;34m:\u001b[0m\u001b[0;34m\u001b[0m\u001b[0m\n\u001b[1;32m    591\u001b[0m             \u001b[0;32mif\u001b[0m \u001b[0mself\u001b[0m\u001b[0;34m.\u001b[0m\u001b[0mif_exists\u001b[0m \u001b[0;34m==\u001b[0m \u001b[0;34m'fail'\u001b[0m\u001b[0;34m:\u001b[0m\u001b[0;34m\u001b[0m\u001b[0m\n\u001b[0;32m--> 592\u001b[0;31m                 \u001b[0;32mraise\u001b[0m \u001b[0mValueError\u001b[0m\u001b[0;34m(\u001b[0m\u001b[0;34m\"Table '%s' already exists.\"\u001b[0m \u001b[0;34m%\u001b[0m \u001b[0mself\u001b[0m\u001b[0;34m.\u001b[0m\u001b[0mname\u001b[0m\u001b[0;34m)\u001b[0m\u001b[0;34m\u001b[0m\u001b[0m\n\u001b[0m\u001b[1;32m    593\u001b[0m             \u001b[0;32melif\u001b[0m \u001b[0mself\u001b[0m\u001b[0;34m.\u001b[0m\u001b[0mif_exists\u001b[0m \u001b[0;34m==\u001b[0m \u001b[0;34m'replace'\u001b[0m\u001b[0;34m:\u001b[0m\u001b[0;34m\u001b[0m\u001b[0m\n\u001b[1;32m    594\u001b[0m                 \u001b[0mself\u001b[0m\u001b[0;34m.\u001b[0m\u001b[0mpd_sql\u001b[0m\u001b[0;34m.\u001b[0m\u001b[0mdrop_table\u001b[0m\u001b[0;34m(\u001b[0m\u001b[0mself\u001b[0m\u001b[0;34m.\u001b[0m\u001b[0mname\u001b[0m\u001b[0;34m,\u001b[0m \u001b[0mself\u001b[0m\u001b[0;34m.\u001b[0m\u001b[0mschema\u001b[0m\u001b[0;34m)\u001b[0m\u001b[0;34m\u001b[0m\u001b[0m\n",
      "\u001b[0;31mValueError\u001b[0m: Table 'COMPANY_NEW' already exists."
     ]
    }
   ],
   "source": [
    "sqlite3_demo.sample(2).to_csv('./demo.out.csv')\n",
    "sqlite3_demo.sample(2).to_excel('./demo.out.xls')\n",
    "sqlite3_demo.sample(2).to_sql('COMPANY_NEW', conn)"
   ]
  },
  {
   "cell_type": "markdown",
   "metadata": {},
   "source": [
    "### write DataFrame to file/sql  \n",
    "DataFrame 对象有 to_* 方法可以将数据写入到不同的地方  "
   ]
  },
  {
   "cell_type": "markdown",
   "metadata": {},
   "source": [
    "## Index  \n",
    "1. 类似 python dict 的操作方式，但是可以使用 . 操作符  \n",
    "2. loc & iloc(both are row first, column second)    \n",
    "    > pandas index 的操作范式：基于 index(iloc) 和 基于 label(loc)  \n",
    "\n",
    "### iloc  \n",
    "**the first element of the range is included and the last one excluded**  \n",
    "```python  \n",
    "# get all row with column 0(exclude index)  \n",
    "df.iloc[from_row:to_row:step, from_col:to_col:step]\n",
    "```  \n",
    "### loc  \n",
    "loc can index any stdlib type: strings\n",
    "**the first and the last element of the range is included**    "
   ]
  },
  {
   "cell_type": "code",
   "execution_count": 7,
   "metadata": {},
   "outputs": [
    {
     "name": "stdout",
     "output_type": "stream",
     "text": [
      "Using iloc: \n",
      "\n",
      "         具体任职 等级\n",
      "0       学生会主席  A\n",
      "5      团委书记助理  A\n",
      "10      秘书处秘书  C\n",
      "15  职业发展中心副部长  B\n",
      "20   事业部常务副部长  B\n",
      "25      事业部干事  A\n",
      "30      事业部干事  B\n",
      "35      事业部干事  A\n",
      "40      事业部干事  B\n",
      "45      勤工部副部  A\n",
      "50      勤工部干事  A\n",
      "55      勤工部干事  A\n",
      "60      勤工部干事  B\n",
      "65       非创部长  A\n",
      "70       非创干事  A\n",
      "75       非创干事  A\n",
      "80       非创干事  B\n",
      "85       非创干事  B\n",
      "90      办公室干事  C\n",
      "95      办公室干事  A\n",
      "Using loc: \n",
      "\n",
      "          具体任职 等级\n",
      "0        学生会主席  A\n",
      "5       团委书记助理  A\n",
      "10       秘书处秘书  C\n",
      "15   职业发展中心副部长  B\n",
      "20    事业部常务副部长  B\n",
      "25       事业部干事  A\n",
      "30       事业部干事  B\n",
      "35       事业部干事  A\n",
      "40       事业部干事  B\n",
      "45       勤工部副部  A\n",
      "50       勤工部干事  A\n",
      "55       勤工部干事  A\n",
      "60       勤工部干事  B\n",
      "65        非创部长  A\n",
      "70        非创干事  A\n",
      "75        非创干事  A\n",
      "80        非创干事  B\n",
      "85        非创干事  B\n",
      "90       办公室干事  C\n",
      "95       办公室干事  A\n",
      "100      办公室干事  B\n",
      "Empty DataFrame\n",
      "Columns: [部门, 姓名, 具体任职, 总分, 等级, 工作业绩分, 任职浮动分, 备注]\n",
      "Index: []\n"
     ]
    }
   ],
   "source": [
    "print('Using iloc: \\n')\n",
    "print(excel_demo.iloc[:100:5, 2:6:2])\n",
    "print('Using loc: \\n')\n",
    "print(excel_demo.loc[:101:5, '具体任职':'工作业绩分':2])\n",
    "_tmp = pd.DataFrame.copy(excel_demo)\n",
    "_tmp.set_index('姓名')\n",
    "print(_tmp.loc['顾迪文':'戴鑫雷', :])"
   ]
  },
  {
   "cell_type": "markdown",
   "metadata": {},
   "source": [
    "## Manipulating the index  \n",
    "`set_index` - set specific column as DataFrame's index  \n",
    "### Conditional selection  \n",
    "```python  \n",
    "# df.loc[condition]  \n",
    "df.loc[df.col1 == <val1>]  \n",
    "df.loc[(df.col1 == <val1>) & (df.col2 == <val2>)]\n",
    "df.loc[(df.col1 == <val1>) | (df.col2 == <val2>)]\n",
    "df.loc[df.col1.isin([<val1>, <val2>])]  \n",
    "df.loc[df.col1.notnull()]  \n",
    "```"
   ]
  },
  {
   "cell_type": "code",
   "execution_count": 8,
   "metadata": {},
   "outputs": [
    {
     "name": "stdout",
     "output_type": "stream",
     "text": [
      "          部门    姓名       具体任职  总分 等级  工作业绩分  任职浮动分    备注\n",
      "0        主席团   顾迪文      学生会主席  70  A    1.5    1.0   NaN\n",
      "1        NaN   丁俊波     学生会副主席  66  B    1.0    NaN   NaN\n",
      "2        NaN   倪聪亮     学生会副主席  66  B    1.0    NaN   NaN\n",
      "3        NaN   金晓永     学生会副主席  66  B    1.0    NaN   NaN\n",
      "4        NaN   吴文杰      团委副书记  70  A    1.5    1.0   NaN\n",
      "5        NaN   李丽娅     团委书记助理  69  A    1.5    0.5   NaN\n",
      "6        秘书处    李莉     秘书处秘书长  80  B    1.0    0.5   NaN\n",
      "7        NaN    楼斌      秘书处秘书  78  B    1.0    0.5   NaN\n",
      "8        NaN   宋佳伟      秘书处秘书  80  A    1.5    0.5   NaN\n",
      "9        NaN   计兴月      秘书处秘书  76  B    1.0    0.5   NaN\n",
      "12       NaN   陈雯婕      秘书处秘书  80  A    1.5    NaN   NaN\n",
      "13    职业发展中心   单文耀   职业发展中心部长  78  B    1.0    NaN   NaN\n",
      "14       NaN    董梅  职业发展中心副部长  76  B    1.0    NaN   NaN\n",
      "15       NaN   赵红阳  职业发展中心副部长  79  B    1.0    NaN   NaN\n",
      "16       NaN    黄莉  职业发展中心副部长  76  B    1.0    NaN   NaN\n",
      "17       NaN    周艳  职业发展中心副部长  74  B    1.0    NaN   NaN\n",
      "18       NaN   金芝娣  职业发展中心副部长  71  B    1.0    NaN   NaN\n",
      "19       NaN   付国鹏  职业发展中心副部长  73  B    1.0    NaN   NaN\n",
      "20       事业部    董昊   事业部常务副部长  76  B    1.0    0.5   NaN\n",
      "22       NaN   徐燕男      事业部干事  76  A    1.5    NaN   NaN\n",
      "24       NaN   林婷婷      事业部部助  76  A    1.5    NaN   NaN\n",
      "25       NaN   林海欧      事业部干事  76  A    1.5    NaN   NaN\n",
      "26       NaN   陈天益      事业部干事  72  B    1.0    NaN   NaN\n",
      "29       NaN   戴鑫雷      事业部干事  76  A    1.5    NaN   NaN\n",
      "30       NaN    郑宇      事业部干事  74  B    1.0    NaN   NaN\n",
      "31       NaN    吴浩      事业部干事  74  B    1.0    NaN   NaN\n",
      "32       NaN    余璐      事业部干事  72  B    1.0    NaN   NaN\n",
      "33       NaN    赵亮      事业部干事  72  B    1.0    NaN   NaN\n",
      "34       NaN   张黎群      事业部干事  74  B    1.0    NaN   NaN\n",
      "35       NaN   王丽丹      事业部干事  76  A    1.5    NaN   NaN\n",
      "...      ...   ...        ...  .. ..    ...    ...   ...\n",
      "1077     NaN   谢金龙     经贸青协干事  76  B    1.0    NaN  A类社团\n",
      "1078     NaN   廖玲玲     经贸青协干事  77  B    1.0    NaN  A类社团\n",
      "1079     NaN   俞建浓     经贸青协干事  75  B    1.0    NaN  A类社团\n",
      "1080     NaN   石容芳     经贸青协干事  79  B    1.0    NaN  A类社团\n",
      "1081     NaN    陈超     经贸青协干事  73  B    1.0    NaN  A类社团\n",
      "1082     NaN   胡淑静     经贸青协干事  84  A    1.5    NaN  A类社团\n",
      "1083     NaN   吴舒淇     经贸青协干事  78  B    1.0    NaN  A类社团\n",
      "1084     NaN   余庆浩     经贸青协干事  87  A    1.5    NaN  A类社团\n",
      "1085     NaN   刘光轮     经贸青协干事  85  A    1.5    NaN  A类社团\n",
      "1086     NaN   裴银娣     经贸青协干事  79  B    1.0    NaN  A类社团\n",
      "1087     NaN    王婧     经贸青协干事  73  B    1.0    NaN  A类社团\n",
      "1088     NaN    陈莹     经贸青协干事  71  B    1.0    NaN  A类社团\n",
      "1089     NaN   秦敏亚     经贸青协干事  76  B    1.0    NaN  A类社团\n",
      "1090     NaN   姚永兰     经贸青协干事  74  B    1.0    NaN  A类社团\n",
      "1091     NaN   胡灵龙     经贸青协干事  76  B    1.0    NaN  A类社团\n",
      "1092     NaN   黄于捷     经贸青协干事  77  B    1.0    NaN  A类社团\n",
      "1093     NaN    吴迪    经贸三思会干事  77  B    1.0    NaN  A类社团\n",
      "1095     NaN   郭略辰    经贸三思会干事  78  B    1.0    NaN  A类社团\n",
      "1096     NaN   陈雯婕    经贸三思会干事  86  A    1.5    NaN  A类社团\n",
      "1099     NaN   沈毓雅    经贸三思会干事  79  B    1.0    NaN  A类社团\n",
      "1100     NaN    张翀    经贸三思会干事  87  A    1.5    NaN  A类社团\n",
      "1101     NaN   刘晋浩    经贸三思会干事  73  B    1.0    NaN  A类社团\n",
      "1102     NaN   居海刚    经贸三思会干事  88  A    1.5    NaN  A类社团\n",
      "1103     NaN   刘超峰    经贸三思会干事  75  B    1.0    NaN  A类社团\n",
      "1104     NaN   夏旭挺    经贸三思会干事  77  B    1.0    NaN  A类社团\n",
      "1105     NaN   吴胜佳    经贸三思会干事  74  B    1.0    NaN  A类社团\n",
      "1106     NaN  卢娟娟     经贸三思会干事  79  B    1.0    NaN  A类社团\n",
      "1107     NaN   王丽丹    经贸三思会干事  76  B    1.0    NaN  A类社团\n",
      "1108     NaN   王晓庆    经贸三思会干事  78  B    1.0    NaN  A类社团\n",
      "1110     NaN   周子娟    经贸三思会干事  78  B    1.0    NaN  A类社团\n",
      "\n",
      "[899 rows x 8 columns]\n"
     ]
    }
   ],
   "source": [
    "print(excel_demo.loc[excel_demo['等级'].isin(['A', 'B'])])"
   ]
  },
  {
   "cell_type": "markdown",
   "metadata": {},
   "source": [
    "## Assigning data  \n",
    "```python  \n",
    "# assign all col value as everyone  \n",
    "df['col'] = 'everyone'  \n",
    "# assign col value from len(reviews) to 1)\n",
    "df['col'] = range(len(reviews), 0, -1)\n",
    "```  "
   ]
  },
  {
   "cell_type": "code",
   "execution_count": 9,
   "metadata": {},
   "outputs": [
    {
     "name": "stdout",
     "output_type": "stream",
     "text": [
      "          部门    姓名       具体任职  总分  等级  工作业绩分 任职浮动分    备注\n",
      "0        主席团   顾迪文      学生会主席  70   A    1.5     0   NaN\n",
      "1        NaN   丁俊波     学生会副主席  66   B    1.0     0   NaN\n",
      "2        NaN   倪聪亮     学生会副主席  66   B    1.0     0   NaN\n",
      "3        NaN   金晓永     学生会副主席  66   B    1.0     0   NaN\n",
      "4        NaN   吴文杰      团委副书记  70   A    1.5     0   NaN\n",
      "5        NaN   李丽娅     团委书记助理  69   A    1.5     0   NaN\n",
      "6        秘书处    李莉     秘书处秘书长  80   B    1.0     0   NaN\n",
      "7        NaN    楼斌      秘书处秘书  78   B    1.0     0   NaN\n",
      "8        NaN   宋佳伟      秘书处秘书  80   A    1.5     0   NaN\n",
      "9        NaN   计兴月      秘书处秘书  76   B    1.0     0   NaN\n",
      "10       NaN   茹颖波      秘书处秘书  80   C    0.5     0   NaN\n",
      "11       NaN   曹旭颖      秘书处秘书  78   C    0.5     0   NaN\n",
      "12       NaN   陈雯婕      秘书处秘书  80   A    1.5     0   NaN\n",
      "13    职业发展中心   单文耀   职业发展中心部长  78   B    1.0     0   NaN\n",
      "14       NaN    董梅  职业发展中心副部长  76   B    1.0     0   NaN\n",
      "15       NaN   赵红阳  职业发展中心副部长  79   B    1.0     0   NaN\n",
      "16       NaN    黄莉  职业发展中心副部长  76   B    1.0     0   NaN\n",
      "17       NaN    周艳  职业发展中心副部长  74   B    1.0     0   NaN\n",
      "18       NaN   金芝娣  职业发展中心副部长  71   B    1.0     0   NaN\n",
      "19       NaN   付国鹏  职业发展中心副部长  73   B    1.0     0   NaN\n",
      "20       事业部    董昊   事业部常务副部长  76   B    1.0     0   NaN\n",
      "21       NaN    赵静   事业部常务副部长  73   C    0.5     0   NaN\n",
      "22       NaN   徐燕男      事业部干事  76   A    1.5     0   NaN\n",
      "23       NaN    杨京      事业部干事  70   C    0.5     0   NaN\n",
      "24       NaN   林婷婷      事业部部助  76   A    1.5     0   NaN\n",
      "25       NaN   林海欧      事业部干事  76   A    1.5     0   NaN\n",
      "26       NaN   陈天益      事业部干事  72   B    1.0     0   NaN\n",
      "27       NaN   王艳芳      事业部干事  70   C    0.5     0   NaN\n",
      "28       NaN    魏佳      事业部干事  70   C    0.5     0   NaN\n",
      "29       NaN   戴鑫雷      事业部干事  76   A    1.5     0   NaN\n",
      "...      ...   ...        ...  ..  ..    ...   ...   ...\n",
      "1081     NaN    陈超     经贸青协干事  73   B    1.0     0  A类社团\n",
      "1082     NaN   胡淑静     经贸青协干事  84   A    1.5     0  A类社团\n",
      "1083     NaN   吴舒淇     经贸青协干事  78   B    1.0     0  A类社团\n",
      "1084     NaN   余庆浩     经贸青协干事  87   A    1.5     0  A类社团\n",
      "1085     NaN   刘光轮     经贸青协干事  85   A    1.5     0  A类社团\n",
      "1086     NaN   裴银娣     经贸青协干事  79   B    1.0     0  A类社团\n",
      "1087     NaN    王婧     经贸青协干事  73   B    1.0     0  A类社团\n",
      "1088     NaN    陈莹     经贸青协干事  71   B    1.0     0  A类社团\n",
      "1089     NaN   秦敏亚     经贸青协干事  76   B    1.0     0  A类社团\n",
      "1090     NaN   姚永兰     经贸青协干事  74   B    1.0     0  A类社团\n",
      "1091     NaN   胡灵龙     经贸青协干事  76   B    1.0     0  A类社团\n",
      "1092     NaN   黄于捷     经贸青协干事  77   B    1.0     0  A类社团\n",
      "1093     NaN    吴迪    经贸三思会干事  77   B    1.0     0  A类社团\n",
      "1094     NaN   张莉弘    经贸三思会干事  65   C    0.5     0  A类社团\n",
      "1095     NaN   郭略辰    经贸三思会干事  78   B    1.0     0  A类社团\n",
      "1096     NaN   陈雯婕    经贸三思会干事  86   A    1.5     0  A类社团\n",
      "1097     NaN   周彬良    经贸三思会干事  68   C    0.5     0  A类社团\n",
      "1098     NaN   朱旭靓    经贸三思会干事  76  B     1.0     0  A类社团\n",
      "1099     NaN   沈毓雅    经贸三思会干事  79   B    1.0     0  A类社团\n",
      "1100     NaN    张翀    经贸三思会干事  87   A    1.5     0  A类社团\n",
      "1101     NaN   刘晋浩    经贸三思会干事  73   B    1.0     0  A类社团\n",
      "1102     NaN   居海刚    经贸三思会干事  88   A    1.5     0  A类社团\n",
      "1103     NaN   刘超峰    经贸三思会干事  75   B    1.0     0  A类社团\n",
      "1104     NaN   夏旭挺    经贸三思会干事  77   B    1.0     0  A类社团\n",
      "1105     NaN   吴胜佳    经贸三思会干事  74   B    1.0     0  A类社团\n",
      "1106     NaN  卢娟娟     经贸三思会干事  79   B    1.0     0  A类社团\n",
      "1107     NaN   王丽丹    经贸三思会干事  76   B    1.0     0  A类社团\n",
      "1108     NaN   王晓庆    经贸三思会干事  78   B    1.0     0  A类社团\n",
      "1109     NaN   王安平    经贸三思会干事  69   C    0.5     0  A类社团\n",
      "1110     NaN   周子娟    经贸三思会干事  78   B    1.0     0  A类社团\n",
      "\n",
      "[1111 rows x 8 columns]\n"
     ]
    }
   ],
   "source": [
    "excel_demo['任职浮动分'] = '0'\n",
    "print(excel_demo)"
   ]
  },
  {
   "cell_type": "markdown",
   "metadata": {},
   "source": [
    "## Summary functions  \n",
    "### describe  \n",
    "** only work with int value **  \n",
    "`(DataFrame/Series).describe` - generates a high-level summary of the attributes of the given column  \n",
    "### mean  \n",
    "** only work with int value **  \n",
    "`(DataFrame/Series).mean` - mean of the points allotted  \n",
    "### unique  \n",
    "`Series.unique` - see a list of unique values   \n",
    "### value_counts  \n",
    "`Series.value_counts` - see a list of unique values and how often they occur in the dataset  "
   ]
  },
  {
   "cell_type": "code",
   "execution_count": null,
   "metadata": {},
   "outputs": [],
   "source": [
    "# excel_demo.describe()\n",
    "# excel_demo.mean()\n",
    "# excel_demo.median()\n",
    "# excel_demo.min()\n",
    "# excel_demo.max()\n",
    "# excel_demo.std()\n",
    "# excel_demo['具体任职'].unique()\n",
    "# excel_demo.value_counts()"
   ]
  },
  {
   "cell_type": "markdown",
   "metadata": {},
   "source": [
    "## Maps  \n",
    "a function that takes one set of values and \"maps\" them to another set of values  \n",
    "**The difference between map & apply**  \n",
    "1. map takes a Series as input, apply takes a DataFrame/Series as input    \n",
    "\n",
    "Some common built in map function: operator(+, -, *, / ...) for basic type    "
   ]
  },
  {
   "cell_type": "code",
   "execution_count": 14,
   "metadata": {},
   "outputs": [
    {
     "ename": "KeyError",
     "evalue": "' 姓名'",
     "output_type": "error",
     "traceback": [
      "\u001b[0;31m---------------------------------------------------------------------------\u001b[0m",
      "\u001b[0;31mKeyError\u001b[0m                                  Traceback (most recent call last)",
      "\u001b[0;32m~/.venvs/lite_data_science/lib/python3.6/site-packages/pandas/core/indexes/base.py\u001b[0m in \u001b[0;36mget_loc\u001b[0;34m(self, key, method, tolerance)\u001b[0m\n\u001b[1;32m   2524\u001b[0m             \u001b[0;32mtry\u001b[0m\u001b[0;34m:\u001b[0m\u001b[0;34m\u001b[0m\u001b[0m\n\u001b[0;32m-> 2525\u001b[0;31m                 \u001b[0;32mreturn\u001b[0m \u001b[0mself\u001b[0m\u001b[0;34m.\u001b[0m\u001b[0m_engine\u001b[0m\u001b[0;34m.\u001b[0m\u001b[0mget_loc\u001b[0m\u001b[0;34m(\u001b[0m\u001b[0mkey\u001b[0m\u001b[0;34m)\u001b[0m\u001b[0;34m\u001b[0m\u001b[0m\n\u001b[0m\u001b[1;32m   2526\u001b[0m             \u001b[0;32mexcept\u001b[0m \u001b[0mKeyError\u001b[0m\u001b[0;34m:\u001b[0m\u001b[0;34m\u001b[0m\u001b[0m\n",
      "\u001b[0;32mpandas/_libs/index.pyx\u001b[0m in \u001b[0;36mpandas._libs.index.IndexEngine.get_loc\u001b[0;34m()\u001b[0m\n",
      "\u001b[0;32mpandas/_libs/index.pyx\u001b[0m in \u001b[0;36mpandas._libs.index.IndexEngine.get_loc\u001b[0;34m()\u001b[0m\n",
      "\u001b[0;32mpandas/_libs/hashtable_class_helper.pxi\u001b[0m in \u001b[0;36mpandas._libs.hashtable.PyObjectHashTable.get_item\u001b[0;34m()\u001b[0m\n",
      "\u001b[0;32mpandas/_libs/hashtable_class_helper.pxi\u001b[0m in \u001b[0;36mpandas._libs.hashtable.PyObjectHashTable.get_item\u001b[0;34m()\u001b[0m\n",
      "\u001b[0;31mKeyError\u001b[0m: ' 姓名'",
      "\nDuring handling of the above exception, another exception occurred:\n",
      "\u001b[0;31mKeyError\u001b[0m                                  Traceback (most recent call last)",
      "\u001b[0;32m<ipython-input-14-756619d33b56>\u001b[0m in \u001b[0;36m<module>\u001b[0;34m()\u001b[0m\n\u001b[1;32m      3\u001b[0m \u001b[0;31m# excel_demo.apply(lambda x: print(x))\u001b[0m\u001b[0;34m\u001b[0m\u001b[0;34m\u001b[0m\u001b[0m\n\u001b[1;32m      4\u001b[0m \u001b[0mexcel_demo\u001b[0m\u001b[0;34m\u001b[0m\u001b[0m\n\u001b[0;32m----> 5\u001b[0;31m \u001b[0mtmp\u001b[0m \u001b[0;34m=\u001b[0m \u001b[0mexcel_demo\u001b[0m\u001b[0;34m[\u001b[0m\u001b[0;34m' 姓名'\u001b[0m\u001b[0;34m]\u001b[0m \u001b[0;34m+\u001b[0m\u001b[0;34m'1'\u001b[0m\u001b[0;34m\u001b[0m\u001b[0m\n\u001b[0m",
      "\u001b[0;32m~/.venvs/lite_data_science/lib/python3.6/site-packages/pandas/core/frame.py\u001b[0m in \u001b[0;36m__getitem__\u001b[0;34m(self, key)\u001b[0m\n\u001b[1;32m   2137\u001b[0m             \u001b[0;32mreturn\u001b[0m \u001b[0mself\u001b[0m\u001b[0;34m.\u001b[0m\u001b[0m_getitem_multilevel\u001b[0m\u001b[0;34m(\u001b[0m\u001b[0mkey\u001b[0m\u001b[0;34m)\u001b[0m\u001b[0;34m\u001b[0m\u001b[0m\n\u001b[1;32m   2138\u001b[0m         \u001b[0;32melse\u001b[0m\u001b[0;34m:\u001b[0m\u001b[0;34m\u001b[0m\u001b[0m\n\u001b[0;32m-> 2139\u001b[0;31m             \u001b[0;32mreturn\u001b[0m \u001b[0mself\u001b[0m\u001b[0;34m.\u001b[0m\u001b[0m_getitem_column\u001b[0m\u001b[0;34m(\u001b[0m\u001b[0mkey\u001b[0m\u001b[0;34m)\u001b[0m\u001b[0;34m\u001b[0m\u001b[0m\n\u001b[0m\u001b[1;32m   2140\u001b[0m \u001b[0;34m\u001b[0m\u001b[0m\n\u001b[1;32m   2141\u001b[0m     \u001b[0;32mdef\u001b[0m \u001b[0m_getitem_column\u001b[0m\u001b[0;34m(\u001b[0m\u001b[0mself\u001b[0m\u001b[0;34m,\u001b[0m \u001b[0mkey\u001b[0m\u001b[0;34m)\u001b[0m\u001b[0;34m:\u001b[0m\u001b[0;34m\u001b[0m\u001b[0m\n",
      "\u001b[0;32m~/.venvs/lite_data_science/lib/python3.6/site-packages/pandas/core/frame.py\u001b[0m in \u001b[0;36m_getitem_column\u001b[0;34m(self, key)\u001b[0m\n\u001b[1;32m   2144\u001b[0m         \u001b[0;31m# get column\u001b[0m\u001b[0;34m\u001b[0m\u001b[0;34m\u001b[0m\u001b[0m\n\u001b[1;32m   2145\u001b[0m         \u001b[0;32mif\u001b[0m \u001b[0mself\u001b[0m\u001b[0;34m.\u001b[0m\u001b[0mcolumns\u001b[0m\u001b[0;34m.\u001b[0m\u001b[0mis_unique\u001b[0m\u001b[0;34m:\u001b[0m\u001b[0;34m\u001b[0m\u001b[0m\n\u001b[0;32m-> 2146\u001b[0;31m             \u001b[0;32mreturn\u001b[0m \u001b[0mself\u001b[0m\u001b[0;34m.\u001b[0m\u001b[0m_get_item_cache\u001b[0m\u001b[0;34m(\u001b[0m\u001b[0mkey\u001b[0m\u001b[0;34m)\u001b[0m\u001b[0;34m\u001b[0m\u001b[0m\n\u001b[0m\u001b[1;32m   2147\u001b[0m \u001b[0;34m\u001b[0m\u001b[0m\n\u001b[1;32m   2148\u001b[0m         \u001b[0;31m# duplicate columns & possible reduce dimensionality\u001b[0m\u001b[0;34m\u001b[0m\u001b[0;34m\u001b[0m\u001b[0m\n",
      "\u001b[0;32m~/.venvs/lite_data_science/lib/python3.6/site-packages/pandas/core/generic.py\u001b[0m in \u001b[0;36m_get_item_cache\u001b[0;34m(self, item)\u001b[0m\n\u001b[1;32m   1840\u001b[0m         \u001b[0mres\u001b[0m \u001b[0;34m=\u001b[0m \u001b[0mcache\u001b[0m\u001b[0;34m.\u001b[0m\u001b[0mget\u001b[0m\u001b[0;34m(\u001b[0m\u001b[0mitem\u001b[0m\u001b[0;34m)\u001b[0m\u001b[0;34m\u001b[0m\u001b[0m\n\u001b[1;32m   1841\u001b[0m         \u001b[0;32mif\u001b[0m \u001b[0mres\u001b[0m \u001b[0;32mis\u001b[0m \u001b[0;32mNone\u001b[0m\u001b[0;34m:\u001b[0m\u001b[0;34m\u001b[0m\u001b[0m\n\u001b[0;32m-> 1842\u001b[0;31m             \u001b[0mvalues\u001b[0m \u001b[0;34m=\u001b[0m \u001b[0mself\u001b[0m\u001b[0;34m.\u001b[0m\u001b[0m_data\u001b[0m\u001b[0;34m.\u001b[0m\u001b[0mget\u001b[0m\u001b[0;34m(\u001b[0m\u001b[0mitem\u001b[0m\u001b[0;34m)\u001b[0m\u001b[0;34m\u001b[0m\u001b[0m\n\u001b[0m\u001b[1;32m   1843\u001b[0m             \u001b[0mres\u001b[0m \u001b[0;34m=\u001b[0m \u001b[0mself\u001b[0m\u001b[0;34m.\u001b[0m\u001b[0m_box_item_values\u001b[0m\u001b[0;34m(\u001b[0m\u001b[0mitem\u001b[0m\u001b[0;34m,\u001b[0m \u001b[0mvalues\u001b[0m\u001b[0;34m)\u001b[0m\u001b[0;34m\u001b[0m\u001b[0m\n\u001b[1;32m   1844\u001b[0m             \u001b[0mcache\u001b[0m\u001b[0;34m[\u001b[0m\u001b[0mitem\u001b[0m\u001b[0;34m]\u001b[0m \u001b[0;34m=\u001b[0m \u001b[0mres\u001b[0m\u001b[0;34m\u001b[0m\u001b[0m\n",
      "\u001b[0;32m~/.venvs/lite_data_science/lib/python3.6/site-packages/pandas/core/internals.py\u001b[0m in \u001b[0;36mget\u001b[0;34m(self, item, fastpath)\u001b[0m\n\u001b[1;32m   3841\u001b[0m \u001b[0;34m\u001b[0m\u001b[0m\n\u001b[1;32m   3842\u001b[0m             \u001b[0;32mif\u001b[0m \u001b[0;32mnot\u001b[0m \u001b[0misna\u001b[0m\u001b[0;34m(\u001b[0m\u001b[0mitem\u001b[0m\u001b[0;34m)\u001b[0m\u001b[0;34m:\u001b[0m\u001b[0;34m\u001b[0m\u001b[0m\n\u001b[0;32m-> 3843\u001b[0;31m                 \u001b[0mloc\u001b[0m \u001b[0;34m=\u001b[0m \u001b[0mself\u001b[0m\u001b[0;34m.\u001b[0m\u001b[0mitems\u001b[0m\u001b[0;34m.\u001b[0m\u001b[0mget_loc\u001b[0m\u001b[0;34m(\u001b[0m\u001b[0mitem\u001b[0m\u001b[0;34m)\u001b[0m\u001b[0;34m\u001b[0m\u001b[0m\n\u001b[0m\u001b[1;32m   3844\u001b[0m             \u001b[0;32melse\u001b[0m\u001b[0;34m:\u001b[0m\u001b[0;34m\u001b[0m\u001b[0m\n\u001b[1;32m   3845\u001b[0m                 \u001b[0mindexer\u001b[0m \u001b[0;34m=\u001b[0m \u001b[0mnp\u001b[0m\u001b[0;34m.\u001b[0m\u001b[0marange\u001b[0m\u001b[0;34m(\u001b[0m\u001b[0mlen\u001b[0m\u001b[0;34m(\u001b[0m\u001b[0mself\u001b[0m\u001b[0;34m.\u001b[0m\u001b[0mitems\u001b[0m\u001b[0;34m)\u001b[0m\u001b[0;34m)\u001b[0m\u001b[0;34m[\u001b[0m\u001b[0misna\u001b[0m\u001b[0;34m(\u001b[0m\u001b[0mself\u001b[0m\u001b[0;34m.\u001b[0m\u001b[0mitems\u001b[0m\u001b[0;34m)\u001b[0m\u001b[0;34m]\u001b[0m\u001b[0;34m\u001b[0m\u001b[0m\n",
      "\u001b[0;32m~/.venvs/lite_data_science/lib/python3.6/site-packages/pandas/core/indexes/base.py\u001b[0m in \u001b[0;36mget_loc\u001b[0;34m(self, key, method, tolerance)\u001b[0m\n\u001b[1;32m   2525\u001b[0m                 \u001b[0;32mreturn\u001b[0m \u001b[0mself\u001b[0m\u001b[0;34m.\u001b[0m\u001b[0m_engine\u001b[0m\u001b[0;34m.\u001b[0m\u001b[0mget_loc\u001b[0m\u001b[0;34m(\u001b[0m\u001b[0mkey\u001b[0m\u001b[0;34m)\u001b[0m\u001b[0;34m\u001b[0m\u001b[0m\n\u001b[1;32m   2526\u001b[0m             \u001b[0;32mexcept\u001b[0m \u001b[0mKeyError\u001b[0m\u001b[0;34m:\u001b[0m\u001b[0;34m\u001b[0m\u001b[0m\n\u001b[0;32m-> 2527\u001b[0;31m                 \u001b[0;32mreturn\u001b[0m \u001b[0mself\u001b[0m\u001b[0;34m.\u001b[0m\u001b[0m_engine\u001b[0m\u001b[0;34m.\u001b[0m\u001b[0mget_loc\u001b[0m\u001b[0;34m(\u001b[0m\u001b[0mself\u001b[0m\u001b[0;34m.\u001b[0m\u001b[0m_maybe_cast_indexer\u001b[0m\u001b[0;34m(\u001b[0m\u001b[0mkey\u001b[0m\u001b[0;34m)\u001b[0m\u001b[0;34m)\u001b[0m\u001b[0;34m\u001b[0m\u001b[0m\n\u001b[0m\u001b[1;32m   2528\u001b[0m \u001b[0;34m\u001b[0m\u001b[0m\n\u001b[1;32m   2529\u001b[0m         \u001b[0mindexer\u001b[0m \u001b[0;34m=\u001b[0m \u001b[0mself\u001b[0m\u001b[0;34m.\u001b[0m\u001b[0mget_indexer\u001b[0m\u001b[0;34m(\u001b[0m\u001b[0;34m[\u001b[0m\u001b[0mkey\u001b[0m\u001b[0;34m]\u001b[0m\u001b[0;34m,\u001b[0m \u001b[0mmethod\u001b[0m\u001b[0;34m=\u001b[0m\u001b[0mmethod\u001b[0m\u001b[0;34m,\u001b[0m \u001b[0mtolerance\u001b[0m\u001b[0;34m=\u001b[0m\u001b[0mtolerance\u001b[0m\u001b[0;34m)\u001b[0m\u001b[0;34m\u001b[0m\u001b[0m\n",
      "\u001b[0;32mpandas/_libs/index.pyx\u001b[0m in \u001b[0;36mpandas._libs.index.IndexEngine.get_loc\u001b[0;34m()\u001b[0m\n",
      "\u001b[0;32mpandas/_libs/index.pyx\u001b[0m in \u001b[0;36mpandas._libs.index.IndexEngine.get_loc\u001b[0;34m()\u001b[0m\n",
      "\u001b[0;32mpandas/_libs/hashtable_class_helper.pxi\u001b[0m in \u001b[0;36mpandas._libs.hashtable.PyObjectHashTable.get_item\u001b[0;34m()\u001b[0m\n",
      "\u001b[0;32mpandas/_libs/hashtable_class_helper.pxi\u001b[0m in \u001b[0;36mpandas._libs.hashtable.PyObjectHashTable.get_item\u001b[0;34m()\u001b[0m\n",
      "\u001b[0;31mKeyError\u001b[0m: ' 姓名'"
     ]
    }
   ],
   "source": [
    "# excel_demo['工作业绩分'].map(lambda x: x * 10)\n",
    "# excel_demo['工作业绩分'].apply(lambda x: x * 10)\n",
    "# excel_demo.apply(lambda x: print(x))\n",
    "# excel_demo\n",
    "# tmp = excel_demo"
   ]
  }
 ],
 "metadata": {
  "kernelspec": {
   "display_name": "Python 3",
   "language": "python",
   "name": "python3"
  },
  "language_info": {
   "codemirror_mode": {
    "name": "ipython",
    "version": 3
   },
   "file_extension": ".py",
   "mimetype": "text/x-python",
   "name": "python",
   "nbconvert_exporter": "python",
   "pygments_lexer": "ipython3",
   "version": "3.6.5"
  }
 },
 "nbformat": 4,
 "nbformat_minor": 2
}
