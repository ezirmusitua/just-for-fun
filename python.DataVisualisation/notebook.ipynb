{
 "cells": [
  {
   "cell_type": "markdown",
   "metadata": {},
   "source": [
    "## What Is Data Visualization  \n",
    " the techniques used to communicate data or information by encoding it as visual objects  \n",
    " **将数据转变为易于理解的图像**  "
   ]
  },
  {
   "cell_type": "markdown",
   "metadata": {},
   "source": [
    "## Why Data Visualization  \n",
    "You will never be an expert on the data you are working with, and will always need to explore the variables in great depth before you can move on to building a model or doing something else with the data  \n",
    "**让我们更了解数据，进而设计更好的模型，更精确的解决问题**  "
   ]
  },
  {
   "cell_type": "markdown",
   "metadata": {},
   "source": [
    "## Content Of Kaggle Data Visualization Tutorial  \n",
    "1. Plot with pandas  \n",
    "2. Plot using seaborn  \n",
    "3. Plot using matplotlib  "
   ]
  },
  {
   "cell_type": "markdown",
   "metadata": {},
   "source": [
    "## 利用 Pandas 进行单变量绘图    \n",
    "\n",
    "### Types of charts  \n",
    "1. Bar chart  \n",
    "`df.plot.bar` -  善于处理标称和小序数分类数据  \n",
    "2. Line chart  \n",
    "`df.plot.line` - 善于处理顺序分类和区间数据  \n",
    "3. Area Chart  \n",
    "`df.plot.area` - 善于处理顺序分类和区间数据  \n",
    "4. Histogram chart  \n",
    "`df.plot.hist` - 善于处理区间数据   "
   ]
  },
  {
   "cell_type": "markdown",
   "metadata": {},
   "source": [
    "### Bar chart (条状图) and categorical data  \n",
    "**nominal categories: \"pure\" categories that don't make a lot of sense to order.(ike countries, ZIP codes, types of cheese, and lunar landers)**    \n",
    "**ordinal categories: things that do make sense to compare, like earthquake magnitudes, housing complexes with certain numbers of apartments, and the sizes of bags of chips at your local deli**  \n",
    "```python  \n",
    "reviews['province'].value_counts().head(10).plot.bar()\n",
    "(reviews['province'].value_counts().head(10) / len(reviews)).plot.bar()\n",
    "reviews['points'].value_counts().sort_index().plot.bar()\n",
    "```  "
   ]
  },
  {
   "cell_type": "markdown",
   "metadata": {},
   "source": [
    "### Line chart  \n",
    "**the tool of first choice for distributions with many unique values or categories**  \n",
    "**weakness: unlike bar charts, they're not appropriate for nominal categorical data**  \n",
    "```python\n",
    "reviews['points'].value_counts().sort_index().plot.line()\n",
    "```"
   ]
  },
  {
   "cell_type": "markdown",
   "metadata": {},
   "source": [
    "### Area Chart  \n",
    "**just line charts, but with the bottom shaded in**  \n",
    "```python  \n",
    "reviews['points'].value_counts().sort_index().plot.area()\n",
    "```  \n",
    "#### What is interval data  \n",
    "Examples of interval variables are the wind speed in a hurricane, shear strength in concrete, and the temperature of the sun. An interval variable goes beyond an ordinal categorical variable: it has a meaningful order, in the sense that we can quantify what the difference between two entries is itself an interval variable.  \n"
   ]
  },
  {
   "cell_type": "markdown",
   "metadata": {},
   "source": [
    "### Histograms chart(柱状图)\n",
    "A histogram looks, trivially, like a bar plot. And it basically is! In fact, a histogram is special kind of bar plot that splits your data into even intervals and displays how many rows are in each interval with bars. The only analytical difference is that instead of each bar representing a single value, it represents a range of values  \n",
    "**一种特殊的 bar 图，展示了一个范围内的数据**  \n",
    "**weakness: they don't deal very well with skewed data**  \n",
    "\n",
    "```python  \n",
    "reviews[reviews['price'] < 200]['price'].plot.hist()\n",
    "```  "
   ]
  },
  {
   "cell_type": "markdown",
   "metadata": {},
   "source": [
    "## 利用 Pandas 进行 双变量 绘图  \n",
    "**Many pandas multivariate plots expect input data to be in this format, with one categorical variable in the columns, one categorical variable in the rows, and counts of their intersections in the entries.**  \n",
    "\n",
    "### Types of charts  \n",
    "1. Scatter plot  \n",
    "`df.plot.scatter` - 善于处理连续以及某些顺序无关的分类数据  \n",
    "2. Hex plot  \n",
    "`df.plot.hex` - 善于处理连续以及某些顺序无关的分类数据    \n",
    "3. Stacked Bar chart  \n",
    "`df.plot.bar(stacked=True)` - 善于处理连续以及顺序相关的分类数据  \n",
    "4. Bivariate Line chart  \n",
    "`df.olot.line()` - 善于处理连续以及顺序相关的分类数据  "
   ]
  },
  {
   "cell_type": "markdown",
   "metadata": {},
   "source": [
    "### Scatter plot(散点图)  \n",
    "simply maps each variable of interest to a point in two-dimensional space  \n",
    "**为了应对数据太过密集导致的问题，通常需要降低采样率**  \n",
    "\n",
    "```python  \n",
    "reviews[reviews['price'] < 100].sample(100).plot.scatter(x='price', y='points')  \n",
    "```  "
   ]
  },
  {
   "cell_type": "markdown",
   "metadata": {},
   "source": [
    "### Hex plot(六角图)  \n",
    "aggregates points in space into hexagons, and then colorize those hexagons  \n",
    "```python\n",
    "reviews[reviews['price'] < 100].plot.hexbin(x='price', y='points', gridsize=15)\n",
    "```  "
   ]
  },
  {
   "cell_type": "markdown",
   "metadata": {},
   "source": [
    "### Stacked plot(堆栈图)  \n",
    "plots the variables one on top of the other    \n",
    "**weakness:  **  \n",
    "1. the second variable in a stacked plot must be a variable with a very limited number of possible values (probably an ordinal categorical, as here)  \n",
    "2. interpretability\n",
    "```python  \n",
    "wine_counts.plot.bar(stacked=True)  \n",
    "wine_counts.plot.area()  \n",
    "```  "
   ]
  },
  {
   "cell_type": "markdown",
   "metadata": {},
   "source": [
    "### Bivariate line chart(双变量线图)  \n",
    "```python\n",
    "wine_counts.plot.line()  \n",
    "```"
   ]
  }
 ],
 "metadata": {
  "kernelspec": {
   "display_name": "Python 3",
   "language": "python",
   "name": "python3"
  },
  "language_info": {
   "codemirror_mode": {
    "name": "ipython",
    "version": 3
   },
   "file_extension": ".py",
   "mimetype": "text/x-python",
   "name": "python",
   "nbconvert_exporter": "python",
   "pygments_lexer": "ipython3",
   "version": "3.6.5"
  }
 },
 "nbformat": 4,
 "nbformat_minor": 2
}
